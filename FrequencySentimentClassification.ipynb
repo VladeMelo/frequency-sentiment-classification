{
 "cells": [
  {
   "cell_type": "code",
   "execution_count": 1,
   "metadata": {},
   "outputs": [],
   "source": [
    "import numpy as np\n",
    "import re\n",
    "import string\n",
    "from nltk.corpus import twitter_samples, stopwords\n",
    "from nltk.stem import PorterStemmer\n",
    "from nltk.tokenize import TweetTokenizer\n",
    "import matplotlib.pyplot as plt\n",
    "from sklearn.linear_model import LogisticRegression\n",
    "from sklearn.metrics import classification_report, confusion_matrix, ConfusionMatrixDisplay"
   ]
  },
  {
   "cell_type": "code",
   "execution_count": 2,
   "metadata": {},
   "outputs": [],
   "source": [
    "positive_tweets = twitter_samples.strings('positive_tweets.json')\n",
    "negative_tweets = twitter_samples.strings('negative_tweets.json')"
   ]
  },
  {
   "cell_type": "code",
   "execution_count": 3,
   "metadata": {},
   "outputs": [],
   "source": [
    "stopwords_english = stopwords.words('english')\n",
    "stemmer = PorterStemmer()\n",
    "\n",
    "tweets_train = positive_tweets[:2000] + negative_tweets[:2000]\n",
    "tweets_test = positive_tweets[2000:] + negative_tweets[2000:]\n",
    "\n",
    "labels_train = np.append(np.ones(len(positive_tweets[:2000])), np.zeros(len(negative_tweets[:2000])))\n",
    "labels_test = np.append(np.ones(len(positive_tweets[2000:])), np.zeros(len(negative_tweets[2000:])))\n",
    "\n",
    "def process_tweet(tweet):\n",
    "  tweet = re.sub(r'^RT[\\s]+', '', tweet)\n",
    "  tweet = re.sub(r'https?://[^\\s\\n\\r]+', '', tweet)\n",
    "  tweet = re.sub(r'#', '', tweet)\n",
    "\n",
    "  tokenizer = TweetTokenizer(\n",
    "    preserve_case=False, # deixa tudo minúsculo\n",
    "    strip_handles=True, # remove @ dos usuários\n",
    "    reduce_len=True # não deixa uma letra se repetir mais de 3 vezes em sequência, ex.: looouco .. -> looouco .. / leeeeeeite ..... -> leeeite ...\n",
    "  )\n",
    "\n",
    "  tweet_tokens = tokenizer.tokenize(tweet)\n",
    "\n",
    "  tweets_clean = []\n",
    "\n",
    "  for word in tweet_tokens:\n",
    "    if (word not in stopwords_english and word not in string.punctuation):\n",
    "      tweets_clean.append(word)\n",
    "\n",
    "  tweets_stem = [] \n",
    "\n",
    "  for word in tweets_clean:\n",
    "    stem_word = stemmer.stem(word)\n",
    "    tweets_stem.append(stem_word)\n",
    "\n",
    "  return tweets_stem"
   ]
  },
  {
   "cell_type": "code",
   "execution_count": 4,
   "metadata": {},
   "outputs": [],
   "source": [
    "tweets_train_processed = []\n",
    "\n",
    "for tweet in tweets_train:\n",
    "  tweets_train_processed.append(process_tweet(tweet))\n",
    "\n",
    "tweets_test_processed = []\n",
    "\n",
    "for tweet in tweets_test:\n",
    "  tweets_test_processed.append(process_tweet(tweet))"
   ]
  },
  {
   "cell_type": "code",
   "execution_count": 5,
   "metadata": {},
   "outputs": [
    {
     "data": {
      "text/plain": [
       "['followfriday', 'top', 'engag', 'member', 'commun', 'week', ':)']"
      ]
     },
     "execution_count": 5,
     "metadata": {},
     "output_type": "execute_result"
    }
   ],
   "source": [
    "tweets_train_processed[0]"
   ]
  },
  {
   "cell_type": "code",
   "execution_count": 6,
   "metadata": {},
   "outputs": [],
   "source": [
    "frequency_dictionary = {} # word: [pos, neg]\n",
    "\n",
    "for tweet_index in range(len(tweets_train_processed)):\n",
    "  for word in tweets_train_processed[tweet_index]:\n",
    "    label = labels_train[tweet_index]\n",
    "\n",
    "    pos = 1 if label == 1 else 0\n",
    "    neg = 1 if label == 0 else 0\n",
    "\n",
    "    if word in frequency_dictionary:\n",
    "      pos += frequency_dictionary[word][0]\n",
    "      neg += frequency_dictionary[word][1]\n",
    "\n",
    "    frequency_dictionary[word] = [pos, neg]"
   ]
  },
  {
   "cell_type": "code",
   "execution_count": 7,
   "metadata": {},
   "outputs": [],
   "source": [
    "X_train = []\n",
    "\n",
    "for tweet in tweets_train_processed:\n",
    "  tweet_vector = []\n",
    "  \n",
    "  for word in tweet:\n",
    "    tweet_vector.append(frequency_dictionary[word])\n",
    "\n",
    "  X_train.append(tweet_vector)\n",
    "\n",
    "X_test = []\n",
    "\n",
    "for tweet in tweets_test_processed:\n",
    "  tweet_vector = []\n",
    "  \n",
    "  for word in tweet:\n",
    "    if word in frequency_dictionary:\n",
    "      tweet_vector.append(frequency_dictionary[word])\n",
    "    else:\n",
    "      tweet_vector.append([0, 0])\n",
    "\n",
    "  X_test.append(tweet_vector)"
   ]
  },
  {
   "cell_type": "code",
   "execution_count": 8,
   "metadata": {},
   "outputs": [
    {
     "name": "stdout",
     "output_type": "stream",
     "text": [
      "14.0\n"
     ]
    },
    {
     "data": {
      "image/png": "[encoded data removed]",
      "text/plain": [
       "<Figure size 640x480 with 1 Axes>"
      ]
     },
     "metadata": {},
     "output_type": "display_data"
    }
   ],
   "source": [
    "tweets_len = []\n",
    "\n",
    "for tweet in X_train:\n",
    "  tweets_len.append(len(tweet))\n",
    "\n",
    "print(np.percentile(tweets_len, 95))\n",
    "plt.hist(tweets_len, bins=30)\n",
    "plt.show()"
   ]
  },
  {
   "cell_type": "markdown",
   "metadata": {},
   "source": [
    "#### Vamos padronizar os tweets para terem tamanho 14"
   ]
  },
  {
   "cell_type": "code",
   "execution_count": 9,
   "metadata": {},
   "outputs": [],
   "source": [
    "size = int(np.percentile(tweets_len, 95))\n",
    "\n",
    "for index in range(len(X_train)):\n",
    "  tweet_len = len(X_train[index])\n",
    "\n",
    "  if size > tweet_len:\n",
    "    rows_to_add = np.zeros((size - tweet_len, 2), dtype=int)\n",
    "\n",
    "    X_train[index] = np.vstack((X_train[index], rows_to_add))\n",
    "  else:\n",
    "    X_train[index] = X_train[index][:size]\n",
    "\n",
    "for index in range(len(X_test)):\n",
    "  tweet_len = len(X_test[index])\n",
    "\n",
    "  if size > tweet_len:\n",
    "    rows_to_add = np.zeros((size - tweet_len, 2), dtype=int)\n",
    "\n",
    "    X_test[index] = np.vstack((X_test[index], rows_to_add))\n",
    "  else:\n",
    "    X_test[index] = X_test[index][:size]"
   ]
  },
  {
   "cell_type": "markdown",
   "metadata": {},
   "source": [
    "#### Fazer o Reshape para caber na Logistic Regression, vai ficar (amostras, 14 * 3)"
   ]
  },
  {
   "cell_type": "code",
   "execution_count": 10,
   "metadata": {},
   "outputs": [],
   "source": [
    "X_train_reshape = np.reshape(X_train, (len(X_train), -1))\n",
    "X_test_reshape = np.reshape(X_test, (len(X_test), -1))"
   ]
  },
  {
   "cell_type": "code",
   "execution_count": 11,
   "metadata": {},
   "outputs": [
    {
     "name": "stderr",
     "output_type": "stream",
     "text": [
      "c:\\Python39\\lib\\site-packages\\sklearn\\linear_model\\_logistic.py:458: ConvergenceWarning: lbfgs failed to converge (status=1):\n",
      "STOP: TOTAL NO. of ITERATIONS REACHED LIMIT.\n",
      "\n",
      "Increase the number of iterations (max_iter) or scale the data as shown in:\n",
      "    https://scikit-learn.org/stable/modules/preprocessing.html\n",
      "Please also refer to the documentation for alternative solver options:\n",
      "    https://scikit-learn.org/stable/modules/linear_model.html#logistic-regression\n",
      "  n_iter_i = _check_optimize_result(\n"
     ]
    },
    {
     "name": "stdout",
     "output_type": "stream",
     "text": [
      "              precision    recall  f1-score   support\n",
      "\n",
      "         0.0       0.98      0.98      0.98      3000\n",
      "         1.0       0.98      0.98      0.98      3000\n",
      "\n",
      "    accuracy                           0.98      6000\n",
      "   macro avg       0.98      0.98      0.98      6000\n",
      "weighted avg       0.98      0.98      0.98      6000\n",
      "\n"
     ]
    },
    {
     "data": {
      "image/png": "[encoded data removed]",
      "text/plain": [
       "<Figure size 640x480 with 2 Axes>"
      ]
     },
     "metadata": {},
     "output_type": "display_data"
    }
   ],
   "source": [
    "model = LogisticRegression()\n",
    "model.fit(X_train_reshape, labels_train)\n",
    "y_pred = model.predict(X_test_reshape)\n",
    "\n",
    "print(classification_report(labels_test, y_pred))\n",
    "\n",
    "cm = confusion_matrix(labels_test, y_pred)\n",
    "\n",
    "disp = ConfusionMatrixDisplay(confusion_matrix=cm)\n",
    "disp.plot()\n",
    "plt.show()"
   ]
  }
 ],
 "metadata": {
  "kernelspec": {
   "display_name": "Python 3",
   "language": "python",
   "name": "python3"
  },
  "language_info": {
   "codemirror_mode": {
    "name": "ipython",
    "version": 3
   },
   "file_extension": ".py",
   "mimetype": "text/x-python",
   "name": "python",
   "nbconvert_exporter": "python",
   "pygments_lexer": "ipython3",
   "version": "3.9.6"
  }
 },
 "nbformat": 4,
 "nbformat_minor": 2
}
